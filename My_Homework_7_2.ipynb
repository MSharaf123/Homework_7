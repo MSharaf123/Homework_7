{
 "cells": [
  {
   "cell_type": "markdown",
   "metadata": {},
   "source": [
    "# Homework 7"
   ]
  },
  {
   "cell_type": "markdown",
   "metadata": {},
   "source": [
    "2)Use Selenium to get the data on all prices of trainings on staff.am and calculate the average training price"
   ]
  },
  {
   "cell_type": "code",
   "execution_count": 1,
   "metadata": {
    "collapsed": true
   },
   "outputs": [],
   "source": [
    "from selenium import webdriver\n",
    "from selenium.webdriver.support.ui import Select\n",
    "from time import*"
   ]
  },
  {
   "cell_type": "code",
   "execution_count": 2,
   "metadata": {
    "collapsed": true
   },
   "outputs": [],
   "source": [
    "browser = webdriver.Chrome()\n",
    "url = \"https://staff.am/en\"\n",
    "browser.get(url)"
   ]
  },
  {
   "cell_type": "code",
   "execution_count": 3,
   "metadata": {
    "collapsed": true
   },
   "outputs": [],
   "source": [
    "trainings=browser.find_element_by_xpath('//*[@id=\"menu-header\"]/li[2]/a')\n",
    "trainings.click()\n",
    "s = browser.page_source"
   ]
  },
  {
   "cell_type": "code",
   "execution_count": 4,
   "metadata": {
    "collapsed": true
   },
   "outputs": [],
   "source": [
    "click_2 = browser.find_element_by_xpath('//*[@id=\"job-list-pagination\"]/ul/li[3]/a')\n",
    "click_2.click()\n",
    "s_1=browser.page_source\n",
    "click_3 = browser.find_element_by_xpath('//*[@id=\"job-list-pagination\"]/ul/li[4]/a')\n",
    "click_3.click()\n",
    "s_2=browser.page_source\n",
    "browser.close()"
   ]
  },
  {
   "cell_type": "code",
   "execution_count": 5,
   "metadata": {
    "collapsed": true
   },
   "outputs": [],
   "source": [
    "from BeautifulSoup import *\n",
    "import requests\n",
    "trainings=[]\n",
    "soups=[s,s_1,s_2]\n",
    "for i in soups:\n",
    "    soup = BeautifulSoup(i)\n",
    "    title=soup.findAll('div',attrs={'class':\"job-inner training-item-title\"})    \n",
    "    for i in title:\n",
    "        if i.find('span')==None:\n",
    "            trainings.append(i.find('h4').text +\" - \" +i.find('p').text + \"- \"+ \"0 AMD\")\n",
    "        else:\n",
    "            trainings.append(i.find('h4').text +\" - \" +i.find('p').text + \"- \"+ i.find('span').text + \" AMD\")"
   ]
  },
  {
   "cell_type": "code",
   "execution_count": 6,
   "metadata": {
    "collapsed": true
   },
   "outputs": [],
   "source": [
    "import re\n",
    "sub=re.sub(r',', r'',str(trainings))\n",
    "res=re.findall('-\\s([0-9]+)',sub)"
   ]
  },
  {
   "cell_type": "code",
   "execution_count": 7,
   "metadata": {
    "collapsed": true
   },
   "outputs": [],
   "source": [
    "price=[]\n",
    "for i in res:\n",
    "    price.append(int(i))"
   ]
  },
  {
   "cell_type": "code",
   "execution_count": 8,
   "metadata": {
    "collapsed": false
   },
   "outputs": [
    {
     "name": "stdout",
     "output_type": "stream",
     "text": [
      "35371\n"
     ]
    }
   ],
   "source": [
    "avg=sum(price)/len(price)\n",
    "print(avg)"
   ]
  }
 ],
 "metadata": {
  "kernelspec": {
   "display_name": "Python 2",
   "language": "python",
   "name": "python2"
  },
  "language_info": {
   "codemirror_mode": {
    "name": "ipython",
    "version": 2
   },
   "file_extension": ".py",
   "mimetype": "text/x-python",
   "name": "python",
   "nbconvert_exporter": "python",
   "pygments_lexer": "ipython2",
   "version": "2.7.13"
  }
 },
 "nbformat": 4,
 "nbformat_minor": 2
}
